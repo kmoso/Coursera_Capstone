{
 "cells": [
  {
   "cell_type": "markdown",
   "metadata": {},
   "source": [
    "# The battle of neighborhoods\n",
    "## Author: [Carlos Morlan](https://www.linkedin.com/in/carlos-morlan-96343a15/)\n",
    "### Published date: July 22<sup>th</sup>, 2019\n",
    "\n",
    "[![Battle of neighborhoods](https://www.garybarker.co.uk/files/uk-city-life-cartoon-illustration.jpg)](https://www.garybarker.co.uk)\n",
    "\n",
    "# Table of contents\n",
    "\n",
    "  - [Introduction](#Intro)\n",
    "\n",
    "### <a name=\"Intro\"></a>Introduction\n",
    "\n",
    "I live in Mexico City, one of the biggest and most populated cities in the world. One of its citizens main concerns is that the country's economy is volatile, you can feel it in the air. A good proxy for the overall stability of a country is the consistency of its economic growth. From my personal point of view, getting more investments is a good way to improve its economic growth. The investments, that can be done by the government or by private companies, should be well planned based on the different communities needs through all the main country's cities.\n",
    "\n",
    "This capstone project will try to show how Mexico City can attract new invests for Mexico's economy improvement. The Government and new investors should know what are the popular places where the citizens have fun, get dinner or bought supplies. With such information, either of both can make best decisions about the type of business they can open and how well the people will take the new venue. Moreover, if there are popular places with special attributes like a Medical Center, they can start opening required business types near such places like Laboratories, Pharmacies or even a Hotel so the people from outside town can stay there while their patients are receiving treatment. As you can see, small or big investors can use this valuable information to take the path of a successful opportunity and the city communities will also get more and better services: Is a win-win situation."
   ]
  },
  {
   "cell_type": "code",
   "execution_count": null,
   "metadata": {},
   "outputs": [],
   "source": []
  }
 ],
 "metadata": {
  "kernelspec": {
   "display_name": "Python 3",
   "language": "python",
   "name": "python3"
  },
  "language_info": {
   "codemirror_mode": {
    "name": "ipython",
    "version": 3
   },
   "file_extension": ".py",
   "mimetype": "text/x-python",
   "name": "python",
   "nbconvert_exporter": "python",
   "pygments_lexer": "ipython3",
   "version": "3.6.7"
  }
 },
 "nbformat": 4,
 "nbformat_minor": 4
}
